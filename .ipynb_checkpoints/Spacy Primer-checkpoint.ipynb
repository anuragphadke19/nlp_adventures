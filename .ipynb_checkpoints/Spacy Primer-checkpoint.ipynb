{
 "cells": [
  {
   "cell_type": "markdown",
   "metadata": {},
   "source": [
    "## Using Spacy for entity extraction\n",
    "\n",
    "The idea is to use the phython library \"spacy\" to analyse the text of books.\n",
    "\n",
    "I start with Sir Arthur Conan Doyle's [_The Adventures of Sherlock Holmes_](http://www.gutenberg.org/ebooks/1661) freely available on Project Gutenberg.\n",
    "\n",
    "First we load the library and the english models provided alongwith the library. This should prove to be a good starting point. The idea would be to train the models further and tune them for the kind of data I hope to analyze."
   ]
  },
  {
   "cell_type": "code",
   "execution_count": 2,
   "metadata": {
    "collapsed": true
   },
   "outputs": [],
   "source": [
    "# Import the spacy library\n",
    "import spacy\n",
    "\n",
    "# load the spacy models for english as the variable 'nlp'\n",
    "nlp = spacy.load('en')"
   ]
  },
  {
   "cell_type": "markdown",
   "metadata": {},
   "source": [
    "Once the model is loaded, we are ready to load the text of the book.\n",
    "\n",
    "A simple function to load the text from a file."
   ]
  },
  {
   "cell_type": "code",
   "execution_count": 3,
   "metadata": {
    "collapsed": true
   },
   "outputs": [],
   "source": [
    "# A function that loads text from a file. Import io to handle txt encoding issues\n",
    "import io\n",
    "\n",
    "def read_file(file_name):\n",
    "    with io.open(file_name,'r',encoding='utf8') as f:\n",
    "        return f.read()"
   ]
  },
  {
   "cell_type": "markdown",
   "metadata": {},
   "source": [
    "Call our function and load the book as the variable _doc_. We are now ready to analyze. Switching to a more peculiar book, hitchhikers guide to the galaxy. "
   ]
  },
  {
   "cell_type": "code",
   "execution_count": 4,
   "metadata": {
    "collapsed": true
   },
   "outputs": [],
   "source": [
    "text = read_file('hitch_guide.txt')\n",
    "doc = nlp(text)\n"
   ]
  },
  {
   "cell_type": "markdown",
   "metadata": {},
   "source": [
    "We now start exploring the spacy magic. Jump right into entity extraction using the spacy's built-in extensively trained model. Use the method _.ents_ and iterate through all the entities. We do an additional filter to only pick up entities labeled __ORG__."
   ]
  },
  {
   "cell_type": "code",
   "execution_count": 5,
   "metadata": {},
   "outputs": [
    {
     "ename": "NameError",
     "evalue": "name 'ent' is not defined",
     "output_type": "error",
     "traceback": [
      "\u001b[0;31m---------------------------------------------------------------------------\u001b[0m",
      "\u001b[0;31mNameError\u001b[0m                                 Traceback (most recent call last)",
      "\u001b[0;32m<ipython-input-5-e878b8e0e5d6>\u001b[0m in \u001b[0;36m<module>\u001b[0;34m()\u001b[0m\n\u001b[0;32m----> 1\u001b[0;31m \u001b[0;32mfor\u001b[0m \u001b[0ment\u001b[0m\u001b[0;34m[\u001b[0m\u001b[0;36m1\u001b[0m\u001b[0;34m:\u001b[0m\u001b[0;36m20\u001b[0m\u001b[0;34m]\u001b[0m \u001b[0;32min\u001b[0m \u001b[0mdoc\u001b[0m\u001b[0;34m.\u001b[0m\u001b[0ments\u001b[0m\u001b[0;34m:\u001b[0m\u001b[0;34m\u001b[0m\u001b[0m\n\u001b[0m\u001b[1;32m      2\u001b[0m     \u001b[0;32mif\u001b[0m \u001b[0ment\u001b[0m\u001b[0;34m.\u001b[0m\u001b[0mlabel_\u001b[0m \u001b[0;34m==\u001b[0m \u001b[0;34m'ORG'\u001b[0m\u001b[0;34m:\u001b[0m\u001b[0;34m\u001b[0m\u001b[0m\n\u001b[1;32m      3\u001b[0m         \u001b[0mprint\u001b[0m\u001b[0;34m(\u001b[0m\u001b[0ment\u001b[0m\u001b[0;34m.\u001b[0m\u001b[0mlabel_\u001b[0m\u001b[0;34m,\u001b[0m \u001b[0ment\u001b[0m\u001b[0;34m.\u001b[0m\u001b[0mtext\u001b[0m\u001b[0;34m)\u001b[0m\u001b[0;34m\u001b[0m\u001b[0m\n",
      "\u001b[0;31mNameError\u001b[0m: name 'ent' is not defined"
     ]
    }
   ],
   "source": [
    "for ent in doc.ents:\n",
    "    if ent.label_ == 'ORG':\n",
    "        print(ent.label_, ent.text)"
   ]
  },
  {
   "cell_type": "markdown",
   "metadata": {
    "collapsed": true
   },
   "source": [
    "If you have read _the hitchhikers guide to the galaxy_ you will know that it uses a lot of made up names. Still, the library seems to have done a pretty decent job. \n",
    "\n",
    "A few observations though \n",
    "\n",
    "* There are a lot of repetitions. Like the word _Ford_ as that is the name of the lead character.\n",
    "* It picks up words like _Universe_ & _Galaxy_ which could be charatereized as organizations but within the context of the book I know that they are nouns for celestial objects.\n",
    "* Picks up quite a lot of _apostrophes_ and other special characters as organizations, which is strange."
   ]
  },
  {
   "cell_type": "markdown",
   "metadata": {},
   "source": [
    "## Next steps -\n",
    "\n",
    "+ Get rid of the repetitions and the special characters. \n",
    "+ Look for a zany vizulation. \n",
    "+ Run the built in models against more formal texts like a sample contract and see how it behaves"
   ]
  }
 ],
 "metadata": {
  "kernelspec": {
   "display_name": "Python 3",
   "language": "python",
   "name": "python3"
  },
  "language_info": {
   "codemirror_mode": {
    "name": "ipython",
    "version": 3
   },
   "file_extension": ".py",
   "mimetype": "text/x-python",
   "name": "python",
   "nbconvert_exporter": "python",
   "pygments_lexer": "ipython3",
   "version": "3.6.1"
  }
 },
 "nbformat": 4,
 "nbformat_minor": 2
}

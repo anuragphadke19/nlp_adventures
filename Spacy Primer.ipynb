{
 "cells": [
  {
   "cell_type": "markdown",
   "metadata": {},
   "source": [
    "## Using Spacy for entity extraction\n",
    "\n",
    "The idea is to use the phython library \"spacy\" to analyse the text of books.\n",
    "\n",
    "I start with Sir Arthur Conan Doyle's [_The Adventures of Sherlock Holmes_](http://www.gutenberg.org/ebooks/1661) freely available on Project Gutenberg.\n",
    "\n",
    "First we load the library and the english models provided alongwith the library. This should prove to be a good starting point. The idea would be to train the models further and tune them for the kind of data I hope to analyze."
   ]
  },
  {
   "cell_type": "code",
   "execution_count": 2,
   "metadata": {
    "collapsed": true
   },
   "outputs": [],
   "source": [
    "# Import the spacy library\n",
    "import spacy\n",
    "\n",
    "# load the spacy models for english as the variable 'nlp'\n",
    "nlp = spacy.load('en')"
   ]
  },
  {
   "cell_type": "markdown",
   "metadata": {},
   "source": [
    "Once the model is loaded, we are ready to load the text of the book.\n",
    "\n",
    "A simple function to load the text from a file."
   ]
  },
  {
   "cell_type": "code",
   "execution_count": 3,
   "metadata": {
    "collapsed": true
   },
   "outputs": [],
   "source": [
    "# A function that loads text from a file. Import io to handle txt encoding issues\n",
    "import io\n",
    "\n",
    "def read_file(file_name):\n",
    "    with io.open(file_name,'r',encoding='utf8') as f:\n",
    "        return f.read()"
   ]
  },
  {
   "cell_type": "markdown",
   "metadata": {},
   "source": [
    "Call our function and load the book as the variable _doc_. We are now ready to analyze. Switching to a more peculiar book, hitchhikers guide to the galaxy. "
   ]
  },
  {
   "cell_type": "code",
   "execution_count": 4,
   "metadata": {
    "collapsed": true
   },
   "outputs": [],
   "source": [
    "text = read_file('hitch_guide.txt')\n",
    "doc = nlp(text)\n"
   ]
  },
  {
   "cell_type": "markdown",
   "metadata": {},
   "source": [
    "We now start exploring the spacy magic. Jump right into entity extraction using the spacy's built-in extensively trained model. Use the method _.ents_ and iterate through all the entities. We do an additional filter to only pick up entities labeled __ORG__."
   ]
  },
  {
   "cell_type": "code",
   "execution_count": 11,
   "metadata": {},
   "outputs": [
    {
     "name": "stdout",
     "output_type": "stream",
     "text": [
      "ORG Hitchhiker\n",
      "ORG Galaxy\n",
      "ORG Galaxy\n",
      "ORG Galaxy\n",
      "ORG the Celestial Home Care Omnibus\n",
      "ORG Fifty More Things\n",
      "ORG Oolon\n",
      "\n",
      "ORG the Outer Eastern Rim\n",
      "ORG Galaxy\n",
      "ORG the Hitchhiker’s Guide\n",
      "ORG Encyclopedia\n",
      "Galactica\n",
      "ORG Yellow\n",
      "ORG Yellow\n",
      "ORG D. Point\n",
      "ORG Leopard\n",
      "ORG Guildford\n",
      "ORG Ford Prefect\n",
      "ORG Ford\n",
      "ORG Betelgeuse\n",
      "ORG Ford\n",
      "ORG Betelgeuse\n",
      "ORG Ford Prefect\n",
      "ORG Ford\n",
      "ORG Universe\n",
      "ORG Ford\n",
      "ORG Galaxy\n",
      "ORG the Public Good\n",
      "ORG House\n",
      "ORG Ford\n",
      "ORG Ford\n",
      "ORG Ford\n",
      "ORG Betelgeuse\n",
      "ORG Ford\n",
      "ORG Ford\n",
      "ORG Ford\n",
      "ORG Ford\n",
      "ORG Ford\n",
      "ORG Ford\n",
      "ORG Ford\n",
      "ORG Orion Beta\n",
      "ORG Indian Wrestling\n",
      "ORG Janx Spirit\n",
      "ORG Orion\n",
      "ORG Ford Prefect\n",
      "ORG Ford\n",
      "ORG Ford\n",
      "ORG Ford\n",
      "ORG Ford\n",
      "ORG Ford\n",
      "ORG Ford\n",
      "ORG Ford\n",
      "ORG Ford\n",
      "ORG ’s\n",
      "ORG Ford\n",
      "ORG \n",
      "\n",
      "ORG Ford\n",
      "ORG Ford\n",
      "ORG \n",
      "\n",
      "ORG Ford\n",
      "ORG Ford\n",
      "ORG Ford\n",
      "ORG Ford\n",
      "ORG Ford\n",
      "ORG Ford\n",
      "ORG Ford\n",
      "ORG Ford\n",
      "ORG the Encyclopedia Galactica\n",
      "ORG The Hitchhiker’s Guide\n",
      "ORG Galaxy\n",
      "ORG Pan Galactic Gargle Blaster\n",
      "ORG Pan Galactic Gargle Blaster\n",
      "ORG Pan Galactic Gargle\n",
      "ORG Ol’ Janx Spirit\n",
      "ORG the Marshes of Fallia\n",
      "ORG Qualactin Zones\n",
      "ORG the Algolian Suns\n",
      "ORG The Hitchhiker’s Guide\n",
      "ORG Galaxy\n",
      "ORG the Encyclopedia\n",
      "Galactica\n",
      "ORG Ford\n",
      "ORG Ford\n"
     ]
    }
   ],
   "source": [
    "for index, ent in enumerate(doc.ents):\n",
    "    if index <= 300 and ent.label_ == 'ORG':\n",
    "        print(ent.label_, ent.text)"
   ]
  },
  {
   "cell_type": "markdown",
   "metadata": {
    "collapsed": true
   },
   "source": [
    "If you have read _the hitchhikers guide to the galaxy_ you will know that it uses a lot of made up names. Still, the library seems to have done a pretty decent job. \n",
    "\n",
    "A few observations though \n",
    "\n",
    "* There are a lot of repetitions. Like the word _Ford_ as that is the name of the lead character.\n",
    "* It picks up words like _Universe_ & _Galaxy_ which could be charatereized as organizations but within the context of the book I know that they are nouns for celestial objects.\n",
    "* Picks up quite a lot of _apostrophes_ and other special characters as organizations, which is strange."
   ]
  },
  {
   "cell_type": "markdown",
   "metadata": {},
   "source": [
    "Going backwards now, I will start looking at using Spacy for text classification.\n",
    "\n",
    "Lets start with a what Spacy already does.\n",
    "\n",
    "Using another interesting passage this one from the bible, as made famous in the cult classic \"Pulp Fiction\"\n",
    "\n",
    "_\"The path of the righteous man is beset on all sides by the inequities of the selfish and the tyranny of evil men.  Blessed is he who, in the name of charity and good will, shepherds the weak through the valley of darkness, for he is truly his brother's keeper and the finder of lost children. And I will strike down upon thee with great vengeance and furious anger those who attempt to poison and destroy my brothers. And you will know my name is the Lord when I lay my vengeance upon you\"_"
   ]
  },
  {
   "cell_type": "code",
   "execution_count": 28,
   "metadata": {},
   "outputs": [
    {
     "data": {
      "text/plain": [
       "[The path of the righteous man is beset on all sides by the inequities of the selfish and the tyranny of evil men.,\n",
       " Blessed is he who, in the name of charity and good will, shepherds the weak through the valley of darkness, for he is truly his brother's keeper and the finder of lost children.,\n",
       " And I will strike down upon thee with great vengeance and furious anger those who attempt to poison and destroy my brothers.,\n",
       " And you will know my name is the Lord when I lay my vengeance upon you]"
      ]
     },
     "execution_count": 28,
     "metadata": {},
     "output_type": "execute_result"
    }
   ],
   "source": [
    "doc = nlp(\"The path of the righteous man is beset on all sides by the inequities of the selfish and the tyranny of evil men. Blessed is he who, in the name of charity and good will, shepherds the weak through the valley of darkness, for he is truly his brother's keeper and the finder of lost children. And I will strike down upon thee with great vengeance and furious anger those who attempt to poison and destroy my brothers. And you will know my name is the Lord when I lay my vengeance upon you\")\n",
    "\n",
    "list(doc.sents)"
   ]
  },
  {
   "cell_type": "code",
   "execution_count": 33,
   "metadata": {},
   "outputs": [
    {
     "data": {
      "text/plain": [
       "[]"
      ]
     },
     "execution_count": 33,
     "metadata": {},
     "output_type": "execute_result"
    }
   ],
   "source": [
    "#first token in the doc\n",
    "list(doc.ents)\n"
   ]
  },
  {
   "cell_type": "markdown",
   "metadata": {},
   "source": [
    "## Next steps -\n",
    "\n",
    "+ Get rid of the repetitions and the special characters. \n",
    "+ Look for a zany vizulation. \n",
    "+ Run the built in models against more formal texts like a sample contract and see how it behaves"
   ]
  },
  {
   "cell_type": "code",
   "execution_count": null,
   "metadata": {
    "collapsed": true
   },
   "outputs": [],
   "source": []
  }
 ],
 "metadata": {
  "kernelspec": {
   "display_name": "Python 3",
   "language": "python",
   "name": "python3"
  },
  "language_info": {
   "codemirror_mode": {
    "name": "ipython",
    "version": 3
   },
   "file_extension": ".py",
   "mimetype": "text/x-python",
   "name": "python",
   "nbconvert_exporter": "python",
   "pygments_lexer": "ipython3",
   "version": "3.6.1"
  }
 },
 "nbformat": 4,
 "nbformat_minor": 2
}

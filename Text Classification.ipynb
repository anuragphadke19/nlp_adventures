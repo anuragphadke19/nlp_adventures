{
 "cells": [
  {
   "cell_type": "markdown",
   "metadata": {},
   "source": [
    "## Text classification using python"
   ]
  },
  {
   "cell_type": "markdown",
   "metadata": {},
   "source": [
    "In this task, I want to go over a list of news stories to classify them into topics like sports, politics, finance etc. \n",
    "\n",
    "I will use the nltk's reuter news corpus for this exercise.\n",
    "\n",
    "Lets start with importing the same and checking the total number of articles to be classified."
   ]
  },
  {
   "cell_type": "code",
   "execution_count": 15,
   "metadata": {},
   "outputs": [
    {
     "data": {
      "text/plain": [
       "10788"
      ]
     },
     "execution_count": 15,
     "metadata": {},
     "output_type": "execute_result"
    }
   ],
   "source": [
    "from nltk.corpus import reuters\n",
    "len(reuters.fileids())"
   ]
  },
  {
   "cell_type": "markdown",
   "metadata": {},
   "source": [
    "1. Lower casing, tokenization and stop words\n",
    "\n",
    "I will first do all the steps on 1 article of the corpus. Then convert the steps into a repeatable method that can be plugged into the over all pipeline."
   ]
  },
  {
   "cell_type": "code",
   "execution_count": 16,
   "metadata": {},
   "outputs": [
    {
     "name": "stdout",
     "output_type": "stream",
     "text": [
      "Shape ::  (10788,)\n",
      "Raw text ::  ASIAN EXPORTERS FEAR DAMAGE FROM U.S.-JAPAN RIFT\n",
      "  Mounting trade friction between the\n",
      "  U.S. And Japan has raised fears among many of Asia's exporting\n",
      "  nations that the row could inflict far-reaching economic\n",
      "  damage, businessmen and officials said.\n",
      "      They told Reuter correspondents in Asian \n"
     ]
    }
   ],
   "source": [
    "# import numpy to facilitate data manipulation\n",
    "import numpy as np\n",
    "\n",
    "# convert the list of fileids into a numpy array. There may be a better way to do this though\n",
    "np_fileids = np.array(reuters.fileids())\n",
    "\n",
    "# observe the shape of the numpy array\n",
    "print('Shape :: ', np_fileids.shape)\n",
    "\n",
    "# Observe the raw text of the first article in the corpus (first 300 characters)\n",
    "print('Raw text :: ', reuters.raw(np_fileids[0])[0:300])"
   ]
  },
  {
   "cell_type": "markdown",
   "metadata": {
    "collapsed": true
   },
   "source": [
    "Lets start with lowercasing"
   ]
  },
  {
   "cell_type": "code",
   "execution_count": 17,
   "metadata": {},
   "outputs": [
    {
     "name": "stdout",
     "output_type": "stream",
     "text": [
      "Lower case ::  asian exporters fear damage from u.s.-japan rift\n",
      "  mounting trade friction between the\n",
      "  u.s. and japan has raised fears among many of asia's exporting\n",
      "  nations that the row could inflict far-reaching economic\n",
      "  damage, businessmen and officials said.\n",
      "      they told reuter correspondents in asian \n"
     ]
    }
   ],
   "source": [
    "# Use the built in lower method for strings \n",
    "article_lower = reuters.raw(np_fileids[0]).lower()\n",
    "\n",
    "# Observe the converted article text\n",
    "print('Lower case :: ', article_lower[:300])"
   ]
  },
  {
   "cell_type": "markdown",
   "metadata": {},
   "source": [
    "Next up, I am going to use nltk's stop word list to remove the stop words.\n",
    "___TODO _Use scikit learn's tf-ldf vecotrizer to generate a custom stop-words list from the reuters corpus."
   ]
  },
  {
   "cell_type": "code",
   "execution_count": 40,
   "metadata": {},
   "outputs": [
    {
     "name": "stdout",
     "output_type": "stream",
     "text": [
      "Original length of article ::  811\n",
      "Filtered length of article ::  529\n",
      "['asian', 'exporters', 'fear', 'damage', 'u.s.-japan', 'rift', 'mounting', 'trade', 'friction', 'u.s.', 'japan', 'raised', 'fears', 'among', 'many', 'asia', \"'s\", 'exporting', 'nations', 'row', 'could', 'inflict', 'far-reaching', 'economic', 'damage', ',', 'businessmen', 'officials', 'said', 'told', 'reuter', 'correspondents', 'asian', 'capitals', 'u.s.', 'move', 'japan', 'might', 'boost', 'protectionist', 'sentiment', 'u.s.', 'lead', 'curbs', 'american', 'imports', 'products', 'exporters', 'said', 'conflict', 'would', 'hurt', 'long-run', ',', 'short-term', 'tokyo', \"'s\", 'loss', 'might', 'gain', 'u.s.', 'said', 'impose', '300', 'mln', 'dlrs', 'tariffs', 'imports', 'japanese', 'electronics', 'goods', 'april', '17', ',', 'retaliation', 'japan', \"'s\", 'alleged', 'failure', 'stick', 'pact', 'sell', 'semiconductors', 'world', 'markets', 'cost', 'unofficial', 'japanese', 'estimates', 'put', 'impact', 'tariffs', '10', 'billion', 'dlrs', 'spokesmen', 'major', 'electronics', 'firms', 'said']\n"
     ]
    },
    {
     "data": {
      "text/plain": [
       "'asian exporters fear damage u.s.-japan rift mounting trade friction u.s. japan raised fears among ma'"
      ]
     },
     "execution_count": 40,
     "metadata": {},
     "output_type": "execute_result"
    }
   ],
   "source": [
    "# import the stopwords list from nltk corpus\n",
    "from nltk.corpus import stopwords\n",
    "# import the word_tokenizer from nltk\n",
    "from nltk.tokenize import word_tokenize\n",
    "\n",
    "# generate a set of stop words\n",
    "stop_words = set(stopwords.words('english'))\n",
    "\n",
    "stop_words.add('.')\n",
    "\n",
    "# tokenize the article text\n",
    "word_tokens = word_tokenize(article_lower)\n",
    "\n",
    "# generate the filtered list of articles as a array\n",
    "article_filtered = []\n",
    "\n",
    "# iterate through the articles word tokens and skip the words which match with words in the stop words list\n",
    "for w in word_tokens :\n",
    "    if w not in stop_words :\n",
    "        article_filtered.append(w)\n",
    "        \n",
    "article_filtered = []\n",
    "\n",
    "# a more concise form of the above logic\n",
    "article_filtered = [w for w in word_tokens if w not in stop_words]\n",
    "        \n",
    "print('Original length of article :: ', len(word_tokens))\n",
    "print('Filtered length of article :: ', len(article_filtered))\n",
    "# observe a part of the filtered article\n",
    "print(article_filtered[:100])\n",
    "\n",
    "raw_filtered = ''\n",
    "# put the article back together for our next step\n",
    "raw_filtered = \" \".join(article_filtered)\n",
    "    \n",
    "raw_filtered[:100]"
   ]
  },
  {
   "cell_type": "markdown",
   "metadata": {},
   "source": [
    "I am planning to skip the stemmer and only do lemmitization. I will use spacy to do the lemmitization and that's the reason for recombining the tokens back into a raw text.\n",
    "\n",
    "__TODO _get rid of this round about way of lemmitization"
   ]
  },
  {
   "cell_type": "code",
   "execution_count": 56,
   "metadata": {},
   "outputs": [
    {
     "name": "stdout",
     "output_type": "stream",
     "text": [
      "CPU times: user 43.6 ms, sys: 108 µs, total: 43.7 ms\n",
      "Wall time: 43.7 ms\n",
      "CPU times: user 240 µs, sys: 57 µs, total: 297 µs\n",
      "Wall time: 301 µs\n"
     ]
    },
    {
     "data": {
      "text/plain": [
       "\"asian exporter fear damage u.s .- japan rift mount trade friction u.s . japan raise fear among many asia 's export nation row could inflict far - reach economic damage , businessman official say tell reuter correspondent asian capital u.s . move japan may boost protectionist sentiment u.s . lead curb american import product exporter say conflict would hurt long - run , short - term tokyo 's loss may gain u.s . say impose 300 mln dlrs tariff import japanese electronic good april 17 , retaliation japan 's alleged failure stick pact sell semiconductor world market cost unofficial japanese estimate put impact tariff 10 billion dlr spokesman major electronic firm say would virtually halt export product hit new tax `` would n't able business , '' say spokesman lead japanese electronic firm matsushita electric industrial co ltd & lt ; mc.t > `` tariff remain place length time beyond month mean complete erosion export ( good subject tariff ) u.s . , '' say tom murtha , stock analyst tokyo office broker & lt ; jame capel co > taiwan , businessman official also worry `` aware seriousness u.s . threat japan serve warn -PRON- , '' say senior taiwanese trade official ask name taiwan trade trade surplus 15.6 billion dlr last year , 95 pct u.s . surplus help swell taiwan 's foreign exchange reserve 53 billion dlr , among world 's large `` must quickly open market , remove trade barrier cut import tariff allow import u.s . product , want defuse problem possible u.s . retaliation , '' say paul sheen , chairman textile exporter & lt ; taiwan safe group > senior official south korea 's trade promotion association say trade dispute u.s . japan may also lead pressure south korea , whose chief export similar japan last year south korea trade surplus 7.1 billion dlr u.s . , 4.9 billion dlrs 1985 . malaysia , trade officer businessman say tough curb japan may allow hard - hit producer semiconductor third country expand sale u.s . hong kong , newspaper allege japan sell below - cost semiconductor , electronic manufacturer share view businessman say short - term commercial advantage would outweighed u.s . pressure block import `` short - term view , '' say lawrence mill , director - general federation hong kong industry `` whole purpose prevent import , one day extend source much serious hong kong disadvantage action restrain trade , '' say u.s . last year hong kong 's big export market , account 30 pct domestically produce export australian government await outcome trade talk u.s . japan interest concern , industry minister john button say canberra last friday `` kind deterioration trade relation two country major trade partner serious matter , '' button say say australia 's concern centred coal beef , australia 's two large export japan also significant u.s . export country meanwhile u.s .- japanese diplomatic manoeuvre solve trade stand - off continue japan 's rule liberal democratic party yesterday outline package economic measure boost japanese economy measure propose include large supplementary budget record public work spend first half financial year also call step - up spending emergency measure stimulate economy despite prime minister yasuhiro nakasone 's avowed fiscal reform program deputy u.s . trade representative michael smith makoto kuroda , japan 's deputy minister international trade industry ( miti ) , due meet washington week effort end dispute\""
      ]
     },
     "execution_count": 56,
     "metadata": {},
     "output_type": "execute_result"
    }
   ],
   "source": [
    "# import spacy\n",
    "import spacy\n",
    "\n",
    "# load the built in models for English\n",
    "nlp = spacy.load('en')\n",
    "\n",
    "# ready for processing\n",
    "%time doc = nlp(raw_filtered)\n",
    "\n",
    "%time tokens_lemmatized = [token.lemma_ for token in doc]\n",
    "# Observe the tokens and lemma for the article\n",
    "#for token in doc \n",
    "#    tokens_lemmatized.append(token.lemma_)\n",
    "    \n",
    "# put the lemmatized tokens back together into a sentence\n",
    "article_lemmatized = ' '.join(tokens_lemmatized)\n",
    "\n",
    "# Observe the lemmatized article text\n",
    "article_lemmatized"
   ]
  },
  {
   "cell_type": "code",
   "execution_count": null,
   "metadata": {},
   "outputs": [],
   "source": [
    "    "
   ]
  },
  {
   "cell_type": "code",
   "execution_count": null,
   "metadata": {
    "collapsed": true
   },
   "outputs": [],
   "source": []
  }
 ],
 "metadata": {
  "kernelspec": {
   "display_name": "Python 3",
   "language": "python",
   "name": "python3"
  },
  "language_info": {
   "codemirror_mode": {
    "name": "ipython",
    "version": 3
   },
   "file_extension": ".py",
   "mimetype": "text/x-python",
   "name": "python",
   "nbconvert_exporter": "python",
   "pygments_lexer": "ipython3",
   "version": "3.6.1"
  }
 },
 "nbformat": 4,
 "nbformat_minor": 2
}
